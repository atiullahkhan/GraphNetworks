{
 "cells": [
  {
   "cell_type": "code",
   "execution_count": 1,
   "id": "curious-footwear",
   "metadata": {},
   "outputs": [],
   "source": [
    "from pyvis.network import Network\n",
    "import networkx as nx\n",
    "import matplotlib.pyplot as plt"
   ]
  },
  {
   "cell_type": "code",
   "execution_count": 2,
   "id": "thrown-mountain",
   "metadata": {},
   "outputs": [
    {
     "name": "stdout",
     "output_type": "stream",
     "text": [
      "Name: \n",
      "Type: DiGraph\n",
      "Number of nodes: 55\n",
      "Number of edges: 54\n",
      "Average in degree:   0.9818\n",
      "Average out degree:   0.9818\n"
     ]
    }
   ],
   "source": [
    "citationsNetwork = nx.read_edgelist('Citation_Links_cmp.txt', create_using = nx.DiGraph(), nodetype = int)\n",
    "print(nx.info(citationsNetwork))"
   ]
  },
  {
   "cell_type": "code",
   "execution_count": 3,
   "id": "bronze-syntax",
   "metadata": {
    "scrolled": true
   },
   "outputs": [
    {
     "data": {
      "text/plain": [
       "NodeView((9912219, 9412130, 9501063, 9505130, 9511002, 9708095, 9710094, 9812251, 9907167, 9912228, 9911059, 9912235, 9912240, 9405135, 9502097, 9508161, 9606105, 9608193, 9702053, 9705216, 9710093, 9803011, 9805022, 9903011, 9903055, 9910060, 9911118, 9912097, 9912114, 9912128, 9912252, 9412229, 9502053, 9604044, 9805008, 9808153, 9908050, 9912260, 9510017, 9610043, 9611050, 9704080, 9902024, 9908157, 9912270, 9306153, 9912286, 9707163, 9802015, 9802074, 9805150, 9806074, 9808140, 9810068, 9901023))"
      ]
     },
     "execution_count": 3,
     "metadata": {},
     "output_type": "execute_result"
    }
   ],
   "source": [
    "citationsNetwork.nodes()"
   ]
  },
  {
   "cell_type": "code",
   "execution_count": 4,
   "id": "passing-thursday",
   "metadata": {
    "scrolled": true
   },
   "outputs": [
    {
     "data": {
      "text/plain": [
       "{9912219: 0.16666666666666666,\n",
       " 9412130: 0.018518518518518517,\n",
       " 9501063: 0.037037037037037035,\n",
       " 9505130: 0.037037037037037035,\n",
       " 9511002: 0.037037037037037035,\n",
       " 9708095: 0.037037037037037035,\n",
       " 9710094: 0.037037037037037035,\n",
       " 9812251: 0.018518518518518517,\n",
       " 9907167: 0.037037037037037035,\n",
       " 9912228: 0.018518518518518517,\n",
       " 9911059: 0.018518518518518517,\n",
       " 9912235: 0.12962962962962962,\n",
       " 9912240: 0.31481481481481477,\n",
       " 9405135: 0.018518518518518517,\n",
       " 9502097: 0.018518518518518517,\n",
       " 9508161: 0.018518518518518517,\n",
       " 9606105: 0.018518518518518517,\n",
       " 9608193: 0.018518518518518517,\n",
       " 9702053: 0.018518518518518517,\n",
       " 9705216: 0.018518518518518517,\n",
       " 9710093: 0.018518518518518517,\n",
       " 9803011: 0.018518518518518517,\n",
       " 9805022: 0.018518518518518517,\n",
       " 9903011: 0.018518518518518517,\n",
       " 9903055: 0.018518518518518517,\n",
       " 9910060: 0.018518518518518517,\n",
       " 9911118: 0.018518518518518517,\n",
       " 9912097: 0.018518518518518517,\n",
       " 9912114: 0.018518518518518517,\n",
       " 9912128: 0.018518518518518517,\n",
       " 9912252: 0.1111111111111111,\n",
       " 9412229: 0.018518518518518517,\n",
       " 9502053: 0.018518518518518517,\n",
       " 9604044: 0.018518518518518517,\n",
       " 9805008: 0.018518518518518517,\n",
       " 9808153: 0.018518518518518517,\n",
       " 9908050: 0.018518518518518517,\n",
       " 9912260: 0.1111111111111111,\n",
       " 9510017: 0.018518518518518517,\n",
       " 9610043: 0.018518518518518517,\n",
       " 9611050: 0.018518518518518517,\n",
       " 9704080: 0.018518518518518517,\n",
       " 9902024: 0.018518518518518517,\n",
       " 9908157: 0.018518518518518517,\n",
       " 9912270: 0.018518518518518517,\n",
       " 9306153: 0.018518518518518517,\n",
       " 9912286: 0.14814814814814814,\n",
       " 9707163: 0.018518518518518517,\n",
       " 9802015: 0.018518518518518517,\n",
       " 9802074: 0.018518518518518517,\n",
       " 9805150: 0.018518518518518517,\n",
       " 9806074: 0.018518518518518517,\n",
       " 9808140: 0.018518518518518517,\n",
       " 9810068: 0.018518518518518517,\n",
       " 9901023: 0.018518518518518517}"
      ]
     },
     "execution_count": 4,
     "metadata": {},
     "output_type": "execute_result"
    }
   ],
   "source": [
    "degreeCentrality = nx.degree_centrality(citationsNetwork)\n",
    "degreeCentrality"
   ]
  },
  {
   "cell_type": "code",
   "execution_count": 5,
   "id": "funny-queensland",
   "metadata": {
    "scrolled": true
   },
   "outputs": [
    {
     "data": {
      "text/plain": [
       "{'9912219': '1999-12-02',\n",
       " '9912228': '1999-12-03',\n",
       " '9912235': '1999-12-03',\n",
       " '9912240': '1999-12-05',\n",
       " '9912252': '1999-12-06',\n",
       " '9912260': '1999-12-07',\n",
       " '9912270': '1999-12-08',\n",
       " '9912286': '1999-12-09'}"
      ]
     },
     "execution_count": 5,
     "metadata": {},
     "output_type": "execute_result"
    }
   ],
   "source": [
    "# Using readlines()\n",
    "citationDates = open('Citation_Dates_cmp.txt', mode = \"r\", encoding = \"utf-8\")\n",
    "Lines = citationDates.readlines()\n",
    " \n",
    "citationDatesDict = {}\n",
    "# Strips the newline character\n",
    "for line in Lines:\n",
    "    citationDatesDict[line.split()[0]] = line.split()[1]\n",
    "citationDatesDict"
   ]
  },
  {
   "cell_type": "code",
   "execution_count": 6,
   "id": "excessive-capital",
   "metadata": {},
   "outputs": [
    {
     "data": {
      "text/plain": [
       "'1999-12-05'"
      ]
     },
     "execution_count": 6,
     "metadata": {},
     "output_type": "execute_result"
    }
   ],
   "source": [
    "citationDatesDict[str(9912240)]"
   ]
  },
  {
   "cell_type": "code",
   "execution_count": 7,
   "id": "considerable-success",
   "metadata": {},
   "outputs": [],
   "source": [
    "for paper, centralityValue in degreeCentrality.items():\n",
    "    citationsNetwork.nodes[paper]['Degree'] = centralityValue\n",
    "    try:\n",
    "        citationsNetwork.nodes[paper]['Citation_Date'] = citationDatesDict[str(paper)]\n",
    "    except:\n",
    "        pass"
   ]
  },
  {
   "cell_type": "code",
   "execution_count": 8,
   "id": "optional-break",
   "metadata": {},
   "outputs": [
    {
     "data": {
      "text/plain": [
       "0.01818181818181818"
      ]
     },
     "execution_count": 8,
     "metadata": {},
     "output_type": "execute_result"
    }
   ],
   "source": [
    "nx.density(citationsNetwork)"
   ]
  },
  {
   "cell_type": "code",
   "execution_count": 9,
   "id": "satellite-filling",
   "metadata": {
    "scrolled": true
   },
   "outputs": [
    {
     "data": {
      "text/plain": [
       "DiDegreeView({9912219: 9, 9412130: 1, 9501063: 2, 9505130: 2, 9511002: 2, 9708095: 2, 9710094: 2, 9812251: 1, 9907167: 2, 9912228: 1, 9911059: 1, 9912235: 7, 9912240: 17, 9405135: 1, 9502097: 1, 9508161: 1, 9606105: 1, 9608193: 1, 9702053: 1, 9705216: 1, 9710093: 1, 9803011: 1, 9805022: 1, 9903011: 1, 9903055: 1, 9910060: 1, 9911118: 1, 9912097: 1, 9912114: 1, 9912128: 1, 9912252: 6, 9412229: 1, 9502053: 1, 9604044: 1, 9805008: 1, 9808153: 1, 9908050: 1, 9912260: 6, 9510017: 1, 9610043: 1, 9611050: 1, 9704080: 1, 9902024: 1, 9908157: 1, 9912270: 1, 9306153: 1, 9912286: 8, 9707163: 1, 9802015: 1, 9802074: 1, 9805150: 1, 9806074: 1, 9808140: 1, 9810068: 1, 9901023: 1})"
      ]
     },
     "execution_count": 9,
     "metadata": {},
     "output_type": "execute_result"
    }
   ],
   "source": [
    "citationsNetwork.degree()"
   ]
  },
  {
   "cell_type": "code",
   "execution_count": 10,
   "id": "medium-aurora",
   "metadata": {},
   "outputs": [
    {
     "data": {
      "text/plain": [
       "0"
      ]
     },
     "execution_count": 10,
     "metadata": {},
     "output_type": "execute_result"
    }
   ],
   "source": [
    "count = 0\n",
    "for paper, degree in citationsNetwork.degree():\n",
    "    if degree == 0:\n",
    "        count+=1\n",
    "count"
   ]
  },
  {
   "cell_type": "code",
   "execution_count": 11,
   "id": "strategic-discussion",
   "metadata": {
    "scrolled": true
   },
   "outputs": [
    {
     "data": {
      "text/plain": [
       "dict_values([0.16666666666666666, 0.018518518518518517, 0.037037037037037035, 0.037037037037037035, 0.037037037037037035, 0.037037037037037035, 0.037037037037037035, 0.018518518518518517, 0.037037037037037035, 0.018518518518518517, 0.018518518518518517, 0.12962962962962962, 0.31481481481481477, 0.018518518518518517, 0.018518518518518517, 0.018518518518518517, 0.018518518518518517, 0.018518518518518517, 0.018518518518518517, 0.018518518518518517, 0.018518518518518517, 0.018518518518518517, 0.018518518518518517, 0.018518518518518517, 0.018518518518518517, 0.018518518518518517, 0.018518518518518517, 0.018518518518518517, 0.018518518518518517, 0.018518518518518517, 0.1111111111111111, 0.018518518518518517, 0.018518518518518517, 0.018518518518518517, 0.018518518518518517, 0.018518518518518517, 0.018518518518518517, 0.1111111111111111, 0.018518518518518517, 0.018518518518518517, 0.018518518518518517, 0.018518518518518517, 0.018518518518518517, 0.018518518518518517, 0.018518518518518517, 0.018518518518518517, 0.14814814814814814, 0.018518518518518517, 0.018518518518518517, 0.018518518518518517, 0.018518518518518517, 0.018518518518518517, 0.018518518518518517, 0.018518518518518517, 0.018518518518518517])"
      ]
     },
     "execution_count": 11,
     "metadata": {},
     "output_type": "execute_result"
    }
   ],
   "source": [
    "degreeCentrality.values()"
   ]
  },
  {
   "cell_type": "code",
   "execution_count": 12,
   "id": "reflected-andrew",
   "metadata": {},
   "outputs": [],
   "source": [
    "maxCentrality = max(degreeCentrality.values())"
   ]
  },
  {
   "cell_type": "code",
   "execution_count": 13,
   "id": "compressed-travel",
   "metadata": {},
   "outputs": [],
   "source": [
    "for paper in citationsNetwork.nodes():\n",
    "    if citationsNetwork.nodes[paper]['Degree'] >= maxCentrality * 0.9:\n",
    "        citationsNetwork.nodes[paper]['value'] = 600\n",
    "        citationsNetwork.nodes[paper]['color'] = 'green'\n",
    "    elif citationsNetwork.nodes[paper]['Degree'] >= maxCentrality * 0.2:\n",
    "        citationsNetwork.nodes[paper]['value'] = 350\n",
    "        citationsNetwork.nodes[paper]['color'] = 'orange'\n",
    "    else:\n",
    "        citationsNetwork.nodes[paper]['value'] = 150\n",
    "        citationsNetwork.nodes[paper]['color'] = 'red'"
   ]
  },
  {
   "cell_type": "code",
   "execution_count": 14,
   "id": "technical-timothy",
   "metadata": {
    "scrolled": true
   },
   "outputs": [],
   "source": [
    "for citation in citationsNetwork.edges():\n",
    "    if citationsNetwork.nodes[citation[0]]['value'] == 600:\n",
    "        citationsNetwork[citation[0]][citation[1]]['color'] = 'green'\n",
    "        citationsNetwork[citation[0]][citation[1]]['width'] = 1.5\n",
    "    elif citationsNetwork.nodes[citation[0]]['value'] == 350:\n",
    "        citationsNetwork[citation[0]][citation[1]]['color'] = 'orange'\n",
    "        citationsNetwork[citation[0]][citation[1]]['width'] = 1.0\n",
    "    else:\n",
    "        citationsNetwork[citation[0]][citation[1]]['color'] = 'red'\n",
    "        citationsNetwork[citation[0]][citation[1]]['width'] = 0.5"
   ]
  },
  {
   "cell_type": "code",
   "execution_count": 15,
   "id": "detailed-addiction",
   "metadata": {},
   "outputs": [],
   "source": [
    "pyvisGraph = Network(height = \"500px\", width = \"1300px\", directed = True, bgcolor = \"#222222\", \n",
    "                     font_color = \"white\", heading = \"Citations Network\")\n",
    "# populates the nodes and edges data structures\n",
    "pyvisGraph.from_nx(citationsNetwork)\n",
    "# pyvisGraph.show_buttons(filter_ = ['physics', 'nodes', 'edges'])\n",
    "pyvisGraph.set_options(\"\"\"var options = {\n",
    "  \"edges\": {\n",
    "    \"color\": {\n",
    "      \"inherit\": true\n",
    "    },\n",
    "    \"smooth\": false\n",
    "  },\n",
    "  \"physics\": {\n",
    "    \"minVelocity\": 0.75\n",
    "  }\n",
    "}\"\"\")\n",
    "pyvisGraph.show(\"pyvisGraph.html\")"
   ]
  },
  {
   "cell_type": "code",
   "execution_count": null,
   "id": "eastern-netscape",
   "metadata": {},
   "outputs": [],
   "source": []
  }
 ],
 "metadata": {
  "kernelspec": {
   "display_name": "Python 3",
   "language": "python",
   "name": "python3"
  },
  "language_info": {
   "codemirror_mode": {
    "name": "ipython",
    "version": 3
   },
   "file_extension": ".py",
   "mimetype": "text/x-python",
   "name": "python",
   "nbconvert_exporter": "python",
   "pygments_lexer": "ipython3",
   "version": "3.7.9"
  }
 },
 "nbformat": 4,
 "nbformat_minor": 5
}
